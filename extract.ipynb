{
 "cells": [
  {
   "metadata": {
    "ExecuteTime": {
     "end_time": "2024-11-19T12:50:18.570416Z",
     "start_time": "2024-11-19T12:50:18.566383Z"
    }
   },
   "cell_type": "code",
   "source": [
    "import pandas as pd\n",
    "import pymupdf\n",
    "import fitz\n",
    "import os"
   ],
   "id": "4e73b54f6f790c3f",
   "outputs": [],
   "execution_count": 6
  },
  {
   "metadata": {
    "ExecuteTime": {
     "end_time": "2024-11-19T12:50:18.744072Z",
     "start_time": "2024-11-19T12:50:18.737613Z"
    }
   },
   "cell_type": "code",
   "source": [
    "folder_path = 'data/'\n",
    "pdf_data = []"
   ],
   "id": "983693aac448d0eb",
   "outputs": [],
   "execution_count": 7
  },
  {
   "metadata": {
    "ExecuteTime": {
     "end_time": "2024-11-19T12:50:19.743060Z",
     "start_time": "2024-11-19T12:50:18.886602Z"
    }
   },
   "cell_type": "code",
   "source": [
    "pdf_data = []\n",
    "\n",
    "# Loop through all files in the folder\n",
    "for file_name in os.listdir(folder_path):\n",
    "    file_path = os.path.join(folder_path, file_name)\n",
    "\n",
    "    # Check if the file is a PDF\n",
    "    if file_name.endswith('.pdf'):\n",
    "        print(f\"Processing: {file_name}\")\n",
    "\n",
    "        # Open the PDF file\n",
    "        with fitz.open(file_path) as pdf:\n",
    "            text = \"\"  # Initialize a string to store all pages' text\n",
    "\n",
    "            # Loop through all pages and concatenate their text\n",
    "            for page in pdf:\n",
    "                text += page.get_text() + \"\\n\"  # Add newline between pages\n",
    "\n",
    "        # Store the consolidated text for the file\n",
    "        pdf_data.append({'file_name': file_name, 'text': text})\n",
    "        print(f\"Extracted text from all pages of {file_name}\")"
   ],
   "id": "68ff51d4605cc431",
   "outputs": [
    {
     "name": "stdout",
     "output_type": "stream",
     "text": [
      "Processing: animalia.pdf\n",
      "Extracted text from all pages of animalia.pdf\n",
      "Processing: Biologi-BG-KLS-XI.pdf\n",
      "Extracted text from all pages of Biologi-BG-KLS-XI.pdf\n",
      "Processing: kelas_11_sma_biologi_suwarno.pdf\n",
      "Extracted text from all pages of kelas_11_sma_biologi_suwarno.pdf\n",
      "Processing: Ringkasan Materi Biologi Kelas 10 Bab 1 Mengenal Biologi.pdf\n",
      "Extracted text from all pages of Ringkasan Materi Biologi Kelas 10 Bab 1 Mengenal Biologi.pdf\n"
     ]
    }
   ],
   "execution_count": 8
  },
  {
   "metadata": {
    "ExecuteTime": {
     "end_time": "2024-11-19T12:50:19.777424Z",
     "start_time": "2024-11-19T12:50:19.756196Z"
    }
   },
   "cell_type": "code",
   "source": [
    "df = pd.DataFrame(pdf_data)\n",
    "df"
   ],
   "id": "8245f1e356eb0015",
   "outputs": [
    {
     "data": {
      "text/plain": [
       "                                           file_name  \\\n",
       "0                                       animalia.pdf   \n",
       "1                              Biologi-BG-KLS-XI.pdf   \n",
       "2                   kelas_11_sma_biologi_suwarno.pdf   \n",
       "3  Ringkasan Materi Biologi Kelas 10 Bab 1 Mengen...   \n",
       "\n",
       "                                                text  \n",
       "0  Modul  BIOLOGI Kelas X KD  3.9 \\n \\n@2020, Dir...  \n",
       "1  Buku Panduan Guru\\nBIOLOGI\\nSMP\\nSMA/MA Kelas ...  \n",
       "2  Panduan Pembelajaran Biologi XI\\nSMA & MA\\nSuw...  \n",
       "3  Ringkasan Materi Biologi Kelas 10 Bab 1 Mengen...  "
      ],
      "text/html": [
       "<div>\n",
       "<style scoped>\n",
       "    .dataframe tbody tr th:only-of-type {\n",
       "        vertical-align: middle;\n",
       "    }\n",
       "\n",
       "    .dataframe tbody tr th {\n",
       "        vertical-align: top;\n",
       "    }\n",
       "\n",
       "    .dataframe thead th {\n",
       "        text-align: right;\n",
       "    }\n",
       "</style>\n",
       "<table border=\"1\" class=\"dataframe\">\n",
       "  <thead>\n",
       "    <tr style=\"text-align: right;\">\n",
       "      <th></th>\n",
       "      <th>file_name</th>\n",
       "      <th>text</th>\n",
       "    </tr>\n",
       "  </thead>\n",
       "  <tbody>\n",
       "    <tr>\n",
       "      <th>0</th>\n",
       "      <td>animalia.pdf</td>\n",
       "      <td>Modul  BIOLOGI Kelas X KD  3.9 \\n \\n@2020, Dir...</td>\n",
       "    </tr>\n",
       "    <tr>\n",
       "      <th>1</th>\n",
       "      <td>Biologi-BG-KLS-XI.pdf</td>\n",
       "      <td>Buku Panduan Guru\\nBIOLOGI\\nSMP\\nSMA/MA Kelas ...</td>\n",
       "    </tr>\n",
       "    <tr>\n",
       "      <th>2</th>\n",
       "      <td>kelas_11_sma_biologi_suwarno.pdf</td>\n",
       "      <td>Panduan Pembelajaran Biologi XI\\nSMA &amp; MA\\nSuw...</td>\n",
       "    </tr>\n",
       "    <tr>\n",
       "      <th>3</th>\n",
       "      <td>Ringkasan Materi Biologi Kelas 10 Bab 1 Mengen...</td>\n",
       "      <td>Ringkasan Materi Biologi Kelas 10 Bab 1 Mengen...</td>\n",
       "    </tr>\n",
       "  </tbody>\n",
       "</table>\n",
       "</div>"
      ]
     },
     "execution_count": 9,
     "metadata": {},
     "output_type": "execute_result"
    }
   ],
   "execution_count": 9
  },
  {
   "metadata": {
    "ExecuteTime": {
     "end_time": "2024-11-19T12:50:19.828415Z",
     "start_time": "2024-11-19T12:50:19.821878Z"
    }
   },
   "cell_type": "code",
   "source": [
    "print(df['text'][3])\n",
    "\n",
    "# kalo mau ngeprint semua\n",
    "# for i in range(len(df)):\n",
    "#     print(df['text'][i])"
   ],
   "id": "dcbd5dc0f6ebbdb0",
   "outputs": [
    {
     "name": "stdout",
     "output_type": "stream",
     "text": [
      "Ringkasan Materi Biologi Kelas 10 Bab 1 Mengenal Biologi\n",
      "Materi didownload dari situs ringkasanku.com\n",
      "Advertisements\n",
      "Berikut ringkasan materi Biologi untuk kelas 10 Bab 1 semester 1 yang membahas materi\n",
      "tentang Mengenal Biologi, yuk disimak materinya ya, materi ini disusun dari buku paket\n",
      "sekolah resmi!\n",
      "Perhatian!\n",
      "Untuk rangkuman semua bab silahkan klik di bawah ini!\n",
      "Rangkuman Biologi Lengkap\n",
      "Daftar Isi\n",
      "1 Ringkasan Materi Biologi Kelas 10 Semester 1\n",
      "2 Biologi sebagai ilmu memiliki sifat dan ciri : \n",
      "3 Cabang ilmu Biologi : \n",
      "4 Berikut hierarki struktur kehidupan dalam Biologi : \n",
      "5 Manfaat mempelajari Biologi : \n",
      "Ringkasan Materi Biologi Kelas 10 Semester 1\n",
      "\n",
      "Ringkasan Materi Biologi Kelas 10 Bab 1 Mengenal Biologi\n",
      "Materi didownload dari situs ringkasanku.com\n",
      "Photo by Artem Podrez on Pexels.com\n",
      "Biologi sebagai ilmu memiliki sifat dan ciri : \n",
      "Memiliki objek : objek Biologi terdiri dari makhluk hidup yang ada maupun yang\n",
      "1.\n",
      "pernah ada di dunia \n",
      "Memiliki metode : Biologi memiliki metode agar dapat dikembangkan kebenarannya\n",
      "2.\n",
      "secara ilmiah, metodenya juga dibakukan agar mudah digunakan semua orang di\n",
      "dunia\n",
      "Bersifat sistematis : Biologi susunan hierarki yang saling berhubungan, mulai dari hal\n",
      "3.\n",
      "sederhana hingga hal kompleks\n",
      "Universal : dalam Biologi, hukum atau kaidah berlaku secara umum\n",
      "4.\n",
      "Objektif : bersifat jujur, menggambarkan kondisi apa adanya, mengandung\n",
      "5.\n",
      "data/informasi yang sebenarnya, bebas dari prasangka, kesenjangan, atau kepentingan\n",
      "pribadi\n",
      "Analitis : Biologi memiliki hal khusus seperti bagian, sifat, peranan dan berbagai\n",
      "6.\n",
      "hubungan. Biologi mempunyai cabang ilmu yaitu zoologi, botani, fisiologi, anatomi,\n",
      "genetika, dan embriologi\n",
      "Verifikatif : kebenaran ilmu pengetahuan bersifat terbuka/verifikatif dan disebut\n",
      "7.\n",
      "kebenaran ilmiah, tidak bersifat mutlak. Artinya sesuatu yang semula dianggap benar\n",
      "\n",
      "Ringkasan Materi Biologi Kelas 10 Bab 1 Mengenal Biologi\n",
      "Materi didownload dari situs ringkasanku.com\n",
      "suatu saat menjadi salah bila ditemukan bukti baru yang menentang kebenarannya\n",
      "Cabang ilmu Biologi : \n",
      "No. Cabang Biologi Objek yang dikaji\n",
      "1\n",
      "Zoologi \n",
      "Mempelajari ciri, sifat, perilaku hewan dan kehidupannya\n",
      "2\n",
      "Botani\n",
      "Mempelajari ciri, sifat tumbuhan dan kehidupannya\n",
      "3\n",
      "Mikrobiologi\n",
      "Mempelajari ciri, sifat mikroba (organisme mikroskopis) dan\n",
      "kehidupannya\n",
      "4\n",
      "Histologi \n",
      "Mempelajari ciri, fungsi dan sifat jaringan penyusun organisme\n",
      "5\n",
      "Sitologi \n",
      "Mempelajari tentang sel penyusun organisme\n",
      "Berikut hierarki struktur kehidupan dalam Biologi : \n",
      "Atom adalah unit terkecil dari suatu materi. Molekul adalah dua atau lebih atom yang\n",
      "berikatan secara kovalen. Sel adalah unit terkecil penyusun organisme. Kumpulan dari\n",
      "sel akan membentuk jaringan. Jaringan adalah kumpulan sel yang bentuknya sama\n",
      "untuk melaksanakan fungsi tertentu. \n",
      "Organ adalah kumpulan dari berbagai jaringan yang mempunyai tugas dan fungsi\n",
      "khusus dalam organisme. Organisme adalah objek yang memiliki sifat – sifat\n",
      "kehidupan, seperti bernapas, bergerak, reproduksi, dan sebagainya. Populasi adalah\n",
      "kumpulan dari beberapa organisme yang sejenis (satu spesies). Ekosistem adalah\n",
      "komunitas organisme beserta lingkungannya. \n",
      "Bioma adalah kumpulan spesies (terutama tumbuhan) yang mendiami tempat tertentu\n",
      "di bumi yang dicirikan oleh vegetasi tertentu yang dominan. Biosfer adalah lapisan\n",
      "bumi yang dihuni oleh organisme. \n",
      "Contoh ruang lingkup yang dikaji Biologi : \n",
      "\n",
      "Ringkasan Materi Biologi Kelas 10 Bab 1 Mengenal Biologi\n",
      "Materi didownload dari situs ringkasanku.com\n",
      "Manfaat mempelajari Biologi : \n",
      "Memberi pemahaman lebih mendalam kepada seseorang yang dapat diterapkan\n",
      "1.\n",
      "sebagai dasar untuk meningkatkan taraf hidupnya\n",
      "Memberi pengetahuan berbagai sumber daya hayati yang bermanfaat bagi kebutuhan\n",
      "2.\n",
      "hidup manusia\n",
      "Memberikan dorongan pada manusia untuk melakukan diversifikasi pemanfaatan\n",
      "3.\n",
      "sumber daya hayati sehingga diperoleh sumber baru yang berbeda\n",
      "Memberi pengetahuan untuk melakukan konservasi terhadap sumber daya hayati agar\n",
      "4.\n",
      "tidak punah\n",
      "Orang yang memahami biologi akan bersikap dan bertindak lain dalam menghadapi\n",
      "masalah kehidupan dibandingkan dengan orang yang tidak memiliki pemahaman\n",
      "biologi. Contohnya, ketika muncul wabah SARS, anggota masyarakat disarankan\n",
      "menggunakan masker. Orang awam beranggapan dengan menggunakan masker\n",
      "mereka tidak akan terkena SARS. \n",
      "Sementara itu bagi yang memahami virus, mereka menyadari untuk mencegah\n",
      "meluasnya virus SARS, mereka selalu waspada dengan menjaga kebersihan dan\n",
      "menyiapkan tindakan yang tepat bila menjumpai gejala SARS di masyarakat. Berikut\n",
      "contoh penampakan virus SARS : \n",
      "\n",
      "Ringkasan Materi Biologi Kelas 10 Bab 1 Mengenal Biologi\n",
      "Materi didownload dari situs ringkasanku.com\n",
      "Kemajuan ilmu pengetahuan mengandung sisi negatif yang tidak diharapkan.\n",
      "Perkembangan biologi dalam teknik rekayasa genetika dapat menghasilkan bibit\n",
      "unggul yang bermanfaat bagi kebutuhan manusia. Jika disalahgunakan orang yang\n",
      "tidak bertanggung jawab, dapat menghasilkan bibit yang membahayakan kehidupan. \n",
      "Untuk menghindari penyelewengan dan penyalahgunaan teknologi bidang biologi,\n",
      "dikembangkan aturan baku atau etika yang harus diperhatikan oleh para ahli yang\n",
      "tertarik pada objek kajian biologi (bioetika). Dalam bioetika memuat norma atau\n",
      "kesepakatan tentang apa saja yang boleh dan tidak boleh dilakukan oleh orang yang\n",
      "berkaitan dengan penelitian bidang biologi.\n",
      "Daftar Pustaka : \n",
      "Anshori, M. & Djoko M. 2009. Biologi untuk Sekolah Menegah Atas (SMA) – Madrasah\n",
      "Aliyah (MA) Kelas X. Jakarta : Pusat Perbukuan Departemen Pendidikan Nasional. \n",
      "Ringkasan Lanjutan:\n",
      "Ringkasan Materi Keanekaragaman Hayati\n",
      "1.\n",
      "Ringkasan Materi Biologi Kelas 10 Bab 3 Virus\n",
      "2.\n",
      "\n",
      "Ringkasan Materi Biologi Kelas 10 Bab 1 Mengenal Biologi\n",
      "Materi didownload dari situs ringkasanku.com\n",
      "Ringkasan Materi Biologi Kelas 10 Bab 4 Monera\n",
      "3.\n",
      "Ringkasan Materi Biologi Kelas 10 Bab 5 Protista\n",
      "4.\n",
      "\n",
      "\n"
     ]
    }
   ],
   "execution_count": 10
  }
 ],
 "metadata": {
  "kernelspec": {
   "name": "python3",
   "language": "python",
   "display_name": "Python 3 (ipykernel)"
  }
 },
 "nbformat": 5,
 "nbformat_minor": 9
}
